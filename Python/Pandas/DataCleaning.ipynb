{
 "cells": [
  {
   "cell_type": "markdown",
   "metadata": {},
   "source": [
    "cleaning empty cells :\n",
    "1. remove row\n",
    "2. replace empty value\n",
    "3. Replace Only For Specified Columns"
   ]
  },
  {
   "cell_type": "code",
   "execution_count": null,
   "metadata": {},
   "outputs": [],
   "source": [
    "import pandas as pd\n",
    "\n",
    "df = pd.read_csv('Date.csv')\n",
    "print(df.to_string())"
   ]
  },
  {
   "cell_type": "code",
   "execution_count": null,
   "metadata": {},
   "outputs": [],
   "source": [
    "# df_new = df.dropna()\n",
    "# print(df_new.to_string())\n",
    "\n",
    "                #to replace the original dataframe\n",
    "\n",
    "df.dropna(inplace=True)\n",
    "print(df.to_string)"
   ]
  },
  {
   "cell_type": "code",
   "execution_count": null,
   "metadata": {},
   "outputs": [],
   "source": [
    "                    # replacing empty values\n",
    "df.fillna(130,inplace=True)\n",
    "print(df.to_string())"
   ]
  },
  {
   "cell_type": "code",
   "execution_count": null,
   "metadata": {},
   "outputs": [],
   "source": [
    "                # replace specific colmun\n",
    "                # df.method({col: value}, inplace=True)\n",
    "\n",
    "# df.fillna({'Calories': 100}, inplace=True)\n",
    "# print(df.to_string)\n",
    "\n",
    "                # you can use mean, median, mode to replace empty cell\n",
    "\n",
    "x = df[\"Calories\"].mean()    #.median() or .mode()[0] : to access the first index from list\n",
    "df.fillna({\"Calories\" : x}, inplace=True)\n",
    "print(df.to_string())"
   ]
  },
  {
   "cell_type": "markdown",
   "metadata": {},
   "source": [
    "Cleaning Data of Wrong Format"
   ]
  },
  {
   "cell_type": "code",
   "execution_count": null,
   "metadata": {},
   "outputs": [],
   "source": [
    "df['Date']=pd.to_datetime(df['Date'])\n",
    "print(df.to_string())\n",
    "\n",
    "df.dropna(subset=['Date'], inplace=True)\n",
    "print(df.to_string())"
   ]
  },
  {
   "cell_type": "markdown",
   "metadata": {},
   "source": [
    "fixing wrong data (doesn't mean empty cell)"
   ]
  },
  {
   "cell_type": "code",
   "execution_count": null,
   "metadata": {},
   "outputs": [],
   "source": [
    "import pandas as pd\n",
    "\n",
    "DF = pd.read_json('data.json')\n",
    "print(DF.to_string())\n",
    "\n",
    "# for small frame use loc() method : df.loc[7, 'Duration'] = 45\n"
   ]
  },
  {
   "cell_type": "code",
   "execution_count": null,
   "metadata": {},
   "outputs": [],
   "source": [
    "# for big dataframe\n",
    "for x in DF.index:\n",
    "    if DF.loc[x , \"Duration\"] > 90:\n",
    "        DF.loc[x , \"Duration\"] = 90\n",
    "\n",
    "print(DF.to_string())\n",
    "\n",
    "# you can also remove the rows\n",
    "\n",
    "for x in DF.index:\n",
    "    if DF.loc[x , \"Duration\"] >= 80:\n",
    "        DF.drop(x , inplace=True)\n",
    "\n",
    "print(DF.to_string())"
   ]
  },
  {
   "cell_type": "markdown",
   "metadata": {},
   "source": [
    "Find Duplicate Rows in DataFrame\n"
   ]
  },
  {
   "cell_type": "code",
   "execution_count": null,
   "metadata": {},
   "outputs": [],
   "source": [
    "print(DF.duplicated().to_string())"
   ]
  }
 ],
 "metadata": {
  "kernelspec": {
   "display_name": "Python 3",
   "language": "python",
   "name": "python3"
  },
  "language_info": {
   "codemirror_mode": {
    "name": "ipython",
    "version": 3
   },
   "file_extension": ".py",
   "mimetype": "text/x-python",
   "name": "python",
   "nbconvert_exporter": "python",
   "pygments_lexer": "ipython3",
   "version": "3.13.1"
  }
 },
 "nbformat": 4,
 "nbformat_minor": 2
}
